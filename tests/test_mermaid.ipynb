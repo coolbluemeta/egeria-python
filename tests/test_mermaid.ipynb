{
 "cells": [
  {
   "metadata": {},
   "cell_type": "markdown",
   "source": [
    "\n",
    "\n",
    "SPDX-License-Identifier: Apache-2.0\n",
    "Copyright Contributors to the ODPi Egeria project.\n",
    "\n",
    "\n",
    "\n",
    "Notebook provides a simple example of using the pyegeria mermaid_utilities functions.\n",
    "\n",
    "A running Egeria environment is needed to run these functions.\n",
    "\n",
    "* mermaid_graph(process_guid, view_server, url, user_id, password) - generates Mermaid markdown for the Egeria process.\n",
    "* load_mermaid() - must be executed once per session to inject mermaid javascript code into the Jupyter environment.\n",
    "* render_mermaid(mermaid_code) - renders and displays the Mermaid markdown code specified.\n"
   ],
   "id": "9d3b84a32edfd9a7"
  },
  {
   "metadata": {
    "collapsed": true,
    "ExecuteTime": {
     "end_time": "2024-09-10T20:49:09.776348Z",
     "start_time": "2024-09-10T20:49:09.510320Z"
    }
   },
   "cell_type": "code",
   "source": [
    "\n",
    "from pyegeria import load_mermaid, render_mermaid, generate_process_graph\n",
    "load_mermaid()\n",
    "mermaid_graph = generate_process_graph('39dbedae-7753-4d05-9a7a-4a6c80cb02f5')\n",
    "\n",
    "render_mermaid(mermaid_graph)"
   ],
   "id": "initial_id",
   "outputs": [
    {
     "data": {
      "text/plain": [
       "<IPython.core.display.HTML object>"
      ],
      "text/html": [
       "\n",
       "    <script type=\"text/javascript\">\n",
       "        if (!window.mermaid) {\n",
       "            var mermaidScript = document.createElement('script');\n",
       "            mermaidScript.src = \"https://cdnjs.cloudflare.com/ajax/libs/mermaid/10.9.1/mermaid.min.js\";\n",
       "            document.head.appendChild(mermaidScript);\n",
       "        }\n",
       "    </script>\n",
       "    "
      ]
     },
     "metadata": {},
     "output_type": "display_data"
    },
    {
     "data": {
      "text/plain": [
       "<IPython.core.display.HTML object>"
      ],
      "text/html": [
       "\n",
       "    <div class=\"mermaid\">\n",
       "        \n",
       "---\n",
       "title: Onboard Landing Area Files For Teddy Bear Drop Foot Project\n",
       "---\n",
       "flowchart LR\n",
       "\n",
       "Step1[(\"`**Move Weekly Measurements File**\n",
       "*nwait_time*: 0\n",
       "*nmult_trig*: True`\")]\n",
       "Step2(\"`**Seek and validate origin**\n",
       "*wait_time*: 0\n",
       "*mult_trig*: True`\")\n",
       "Step3(\"`**SetRetentionPeriod.**\n",
       "*wait_time*: 0\n",
       "*mult_trig*: True`\")\n",
       "Step4(\"`**Publish asset.**\n",
       "*wait_time*: 0\n",
       "*mult_trig*: True`\")\n",
       "Step5(\"`**Check quality of data**\n",
       "*wait_time*: 0\n",
       "*mult_trig*: True`\")\n",
       "Step6(\"`**Check for quality issues**\n",
       "*wait_time*: 0\n",
       "*mult_trig*: True`\")\n",
       "Step1-->|provisioning-complete|Step2\n",
       "Step2-->|origin-assigned|Step3\n",
       "Step3-->|Mandatory:classification-assigned|Step4\n",
       "Step2-->|origin-already-assigned|Step3\n",
       "Step1-->|provisioning-complete|Step5\n",
       "Step5-->|survey-completed|Step6\n",
       "Step6-->|Mandatory:actions-actioned|Step4\n",
       "    </div>\n",
       "    <script type=\"text/javascript\">\n",
       "        if (window.mermaid) {\n",
       "    mermaid.initialize({startOnLoad: true});\n",
       "    mermaid.contentLoaded();\n",
       "    }\n",
       "    </script>\n",
       "    "
      ]
     },
     "metadata": {},
     "output_type": "display_data"
    }
   ],
   "execution_count": 3
  },
  {
   "metadata": {},
   "cell_type": "code",
   "outputs": [],
   "execution_count": null,
   "source": "",
   "id": "a43798ee2a01df00"
  }
 ],
 "metadata": {
  "kernelspec": {
   "display_name": "Python 3",
   "language": "python",
   "name": "python3"
  },
  "language_info": {
   "codemirror_mode": {
    "name": "ipython",
    "version": 2
   },
   "file_extension": ".py",
   "mimetype": "text/x-python",
   "name": "python",
   "nbconvert_exporter": "python",
   "pygments_lexer": "ipython2",
   "version": "2.7.6"
  }
 },
 "nbformat": 4,
 "nbformat_minor": 5
}
